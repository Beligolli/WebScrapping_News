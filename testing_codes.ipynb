{
 "cells": [
  {
   "cell_type": "code",
   "execution_count": 35,
   "metadata": {},
   "outputs": [
    {
     "data": {
      "text/plain": [
       "'\\nWe are going to web scrappe the data from the CNN Brasil website.\\n'"
      ]
     },
     "execution_count": 35,
     "metadata": {},
     "output_type": "execute_result"
    }
   ],
   "source": [
    "\"\"\"\n",
    "We are going to web scrappe the data from the CNN Brasil website.\n",
    "\"\"\"\n",
    "\n",
    "# Date\n",
    "\n",
    "# WeekDay\n",
    "\n",
    "# Brazil Stock Market position\n",
    "\n",
    "# BRL - Dollar\n",
    "\n",
    "# Info Head CNN Brasil\n",
    "\n",
    "# Info Head CNN aba Nacional\n",
    "\n",
    "# Info Head CNN aba Internacional\n",
    "\n",
    "# Info Head CNN aba Politica\n",
    "\n",
    "# Info Head CNN aba Business\n",
    "\n",
    "# Titulo\n",
    "# URL\n",
    "# Topics\n",
    "\n"
   ]
  },
  {
   "cell_type": "code",
   "execution_count": 36,
   "metadata": {},
   "outputs": [],
   "source": [
    "import pandas as pd\n",
    "from datetime import datetime\n",
    "import requests\n",
    "import json\n",
    "from pandas_datareader import data as web\n",
    "import yfinance as yf\n",
    "from selenium import webdriver\n",
    "from selenium.webdriver.common.by import By\n",
    "from time import sleep\n",
    "from datetime import date, timedelta\n",
    "from selenium.webdriver.chrome.options import Options\n",
    "\n",
    "#criar um CVS file\n",
    "#criar os nomes das colunas\n",
    "#adicionar itens nas colunas"
   ]
  },
  {
   "attachments": {},
   "cell_type": "markdown",
   "metadata": {},
   "source": [
    "Creating DataFrame"
   ]
  },
  {
   "cell_type": "code",
   "execution_count": 37,
   "metadata": {},
   "outputs": [],
   "source": [
    "dataset = pd.DataFrame(\n",
    "    {\"Date\":[],\n",
    "     \"WeekDay\":[],\n",
    "     \"Brazil_Ibovespa\":[],\n",
    "     \"BRL_Dollar\":[],\n",
    "     \"Titulo_CNNBrasil\":[],\n",
    "     \"Url_CNNBrasil\":[],\n",
    "     \"Topics_CNNBrasil\":[],\n",
    "     \"Titulo_CNNNacional\":[],\n",
    "     \"Url_CNNNacional\":[],\n",
    "     \"Topics_CNNNacional\":[],\n",
    "     \"Titulo_CNNInternacional\":[],\n",
    "     \"Url_CNNInternacional\":[],\n",
    "     \"Topics_CNNInternacional\":[],\n",
    "     \"Titulo_CNNPolitica\":[],\n",
    "     \"Url_CNNPolitica\":[],\n",
    "     \"Topics_CNNPolitica\":[],\n",
    "     \"Titulo_CNNBusiness\":[],\n",
    "     \"Url_CNNBusiness\":[],\n",
    "     \"Topics_CNNBusiness\":[],\n",
    "        })\n",
    "dataset.to_csv(\"dataset.csv\", index=False)"
   ]
  },
  {
   "attachments": {},
   "cell_type": "markdown",
   "metadata": {},
   "source": [
    "Creating Variables"
   ]
  },
  {
   "cell_type": "code",
   "execution_count": 38,
   "metadata": {},
   "outputs": [],
   "source": [
    "Date = 1\n",
    "WeekDay = 2\n",
    "Brazil_Ibovespa = 3\n",
    "BRL_Dollar = 4\n",
    "Titulo_CNNBrasil = 5\n",
    "Url_CNNBrasil = 6\n",
    "Topics_CNNBrasil = 7\n",
    "Titulo_CNNNacional = 8\n",
    "Url_CNNNacional = 9\n",
    "Topics_CNNNacional = 10\n",
    "Titulo_CNNInternacional = 11\n",
    "Url_CNNInternacional = 12\n",
    "Topics_CNNInternacional = 13\n",
    "Titulo_CNNPolitica = 14\n",
    "Url_CNNPolitica = 15\n",
    "Topics_CNNPolitica = 16\n",
    "Titulo_CNNBusiness = 17\n",
    "Url_CNNBusiness = 18\n",
    "Topics_CNNBusiness = 19"
   ]
  },
  {
   "cell_type": "markdown",
   "metadata": {
    "tags": []
   },
   "source": [
    "Setup Date Var"
   ]
  },
  {
   "cell_type": "code",
   "execution_count": 39,
   "metadata": {},
   "outputs": [
    {
     "data": {
      "text/plain": [
       "'08/01/2023'"
      ]
     },
     "execution_count": 39,
     "metadata": {},
     "output_type": "execute_result"
    }
   ],
   "source": [
    "Date = datetime.now().strftime(\"%d/%m/%Y\")\n",
    "Date"
   ]
  },
  {
   "attachments": {},
   "cell_type": "markdown",
   "metadata": {
    "tags": []
   },
   "source": [
    "Setup WeekDay Var"
   ]
  },
  {
   "cell_type": "code",
   "execution_count": 40,
   "metadata": {},
   "outputs": [
    {
     "data": {
      "text/plain": [
       "'Sunday'"
      ]
     },
     "execution_count": 40,
     "metadata": {},
     "output_type": "execute_result"
    }
   ],
   "source": [
    "date_now = datetime.now()\n",
    "WeekDay = date_now.strftime(\"%A\")\n",
    "WeekDay"
   ]
  },
  {
   "attachments": {},
   "cell_type": "markdown",
   "metadata": {
    "tags": []
   },
   "source": [
    "Setup Brazil_Ibovespa Var"
   ]
  },
  {
   "cell_type": "code",
   "execution_count": 41,
   "metadata": {},
   "outputs": [
    {
     "name": "stdout",
     "output_type": "stream",
     "text": [
      "[*********************100%***********************]  1 of 1 completed\n"
     ]
    },
    {
     "data": {
      "text/plain": [
       "108836.0"
      ]
     },
     "execution_count": 41,
     "metadata": {},
     "output_type": "execute_result"
    }
   ],
   "source": [
    "today = date.today()\n",
    "start_day = today - timedelta(days = 7)\n",
    "tickers_DowJones = \"^BVSP\"\n",
    "datayf = yf.download(tickers_DowJones, start=start_day, end=today)\n",
    "datayf = datayf['Adj Close']\n",
    "\n",
    "Brazil_Ibovespa = datayf[-1]\n",
    "Brazil_Ibovespa"
   ]
  },
  {
   "attachments": {},
   "cell_type": "markdown",
   "metadata": {
    "tags": []
   },
   "source": [
    "Setup BRL_Dollar Var"
   ]
  },
  {
   "cell_type": "code",
   "execution_count": 42,
   "metadata": {},
   "outputs": [
    {
     "data": {
      "text/plain": [
       "'5.2254'"
      ]
     },
     "execution_count": 42,
     "metadata": {},
     "output_type": "execute_result"
    }
   ],
   "source": [
    "requisicao = requests.get('https://economia.awesomeapi.com.br/all/USD-BRL')\n",
    "cotacao = requisicao.json()\n",
    "BRL_Dollar = cotacao['USD']['bid']\n",
    "BRL_Dollar"
   ]
  },
  {
   "attachments": {},
   "cell_type": "markdown",
   "metadata": {},
   "source": [
    "Starting Driver WebScrapping (option to hide windown)"
   ]
  },
  {
   "cell_type": "code",
   "execution_count": 43,
   "metadata": {},
   "outputs": [],
   "source": [
    "driver_exe = 'chromedriver'\n",
    "options = Options()\n",
    "options.add_argument(\"--headless\")\n",
    "driver = webdriver.Chrome(driver_exe, options=options)\n"
   ]
  },
  {
   "attachments": {},
   "cell_type": "markdown",
   "metadata": {
    "tags": []
   },
   "source": [
    "Setup Titulo_CNNBrasil Var"
   ]
  },
  {
   "cell_type": "code",
   "execution_count": 44,
   "metadata": {},
   "outputs": [
    {
     "name": "stdout",
     "output_type": "stream",
     "text": [
      "Há uma semana no cargo, Lula enfrenta desgastes na economia e com ministra do Turismo\n"
     ]
    }
   ],
   "source": [
    "driver.get('https://www.cnnbrasil.com.br/')\n",
    "Titulo_CNNBrasil = driver.find_element(By.XPATH, '//*[@id=\"block1847327\"]/div/div/a/h2').text\n",
    "print(Titulo_CNNBrasil)"
   ]
  },
  {
   "attachments": {},
   "cell_type": "markdown",
   "metadata": {
    "tags": []
   },
   "source": [
    "Setup Url_CNNBrasil Var"
   ]
  },
  {
   "cell_type": "code",
   "execution_count": 45,
   "metadata": {},
   "outputs": [
    {
     "name": "stdout",
     "output_type": "stream",
     "text": [
      "https://www.cnnbrasil.com.br/politica/ha-uma-semana-no-cargo-lula-enfrenta-desgastes-na-economia-e-com-ministra-do-turismo/\n"
     ]
    }
   ],
   "source": [
    "driver.find_element(By.XPATH, '//*[@id=\"block1847327\"]/div/div/a/h2').click()\n",
    "Url_CNNBrasil = driver.current_url\n",
    "print(Url_CNNBrasil)"
   ]
  },
  {
   "attachments": {},
   "cell_type": "markdown",
   "metadata": {
    "tags": []
   },
   "source": [
    "Setup Topics_CNNBrasil Var"
   ]
  },
  {
   "cell_type": "code",
   "execution_count": 46,
   "metadata": {},
   "outputs": [
    {
     "name": "stdout",
     "output_type": "stream",
     "text": [
      "Carlos Lupi, Daniela Carneiro, Esplanada dos Ministérios, Fernando Haddad, Luiz Inácio Lula da Silva (Lula), Luiz Marinho, Ministérios, ministros\n"
     ]
    }
   ],
   "source": [
    "Topics_CNNBrasil =  driver.find_element(By.CLASS_NAME, 'tags__list').text\n",
    "Topics_CNNBrasil = Topics_CNNBrasil.replace('\\n', ', ')\n",
    "print(Topics_CNNBrasil)"
   ]
  },
  {
   "attachments": {},
   "cell_type": "markdown",
   "metadata": {
    "tags": []
   },
   "source": [
    "Setup Titulo_CNNNacional Var"
   ]
  },
  {
   "cell_type": "code",
   "execution_count": 47,
   "metadata": {},
   "outputs": [
    {
     "name": "stdout",
     "output_type": "stream",
     "text": [
      "Prédio desaba parcialmente no centro do Rio de Janeiro\n"
     ]
    }
   ],
   "source": [
    "driver.get('https://www.cnnbrasil.com.br/nacional/')\n",
    "Titulo_CNNNacional = driver.find_element(By.XPATH, '//*[@id=\"block1810868\"]/div/div/div/div[1]/a/div/h3').text\n",
    "print(Titulo_CNNNacional)"
   ]
  },
  {
   "attachments": {},
   "cell_type": "markdown",
   "metadata": {
    "tags": []
   },
   "source": [
    "Setup Url_CNNNacional Var"
   ]
  },
  {
   "cell_type": "code",
   "execution_count": 48,
   "metadata": {},
   "outputs": [
    {
     "name": "stdout",
     "output_type": "stream",
     "text": [
      "https://www.cnnbrasil.com.br/nacional/predio-desaba-parcialmente-no-centro-do-rio-de-janeiro/\n"
     ]
    }
   ],
   "source": [
    "driver.find_element(By.XPATH, '//*[@id=\"block1810868\"]/div/div/div/div[1]/a/div/h3').click()\n",
    "Url_CNNNacional = driver.current_url\n",
    "print(Url_CNNNacional)"
   ]
  },
  {
   "attachments": {},
   "cell_type": "markdown",
   "metadata": {
    "tags": []
   },
   "source": [
    "Setup Topics_CNNNacional Var"
   ]
  },
  {
   "cell_type": "code",
   "execution_count": 49,
   "metadata": {},
   "outputs": [
    {
     "name": "stdout",
     "output_type": "stream",
     "text": [
      "Desabamentos, Rio de Janeiro (capital)\n"
     ]
    }
   ],
   "source": [
    "Topics_CNNNacional = driver.find_element(By.CLASS_NAME, 'tags__list').text\n",
    "Topics_CNNNacional = Topics_CNNNacional.replace('\\n', ', ')\n",
    "print(Topics_CNNNacional)"
   ]
  },
  {
   "attachments": {},
   "cell_type": "markdown",
   "metadata": {
    "tags": []
   },
   "source": [
    "Setup Titulo_CNNInternacional Var"
   ]
  },
  {
   "cell_type": "code",
   "execution_count": 50,
   "metadata": {},
   "outputs": [
    {
     "name": "stdout",
     "output_type": "stream",
     "text": [
      "Acidente de ônibus deixa ao menos 40 mortos e diversos feridos no Senegal, diz presidente \n"
     ]
    }
   ],
   "source": [
    "driver.get('https://www.cnnbrasil.com.br/internacional/')\n",
    "Titulo_CNNInternacional = driver.find_element(By.XPATH, '//*[@id=\"block1810871\"]/div/div/div/div[1]/a/div/h3').text\n",
    "print(Titulo_CNNInternacional)"
   ]
  },
  {
   "attachments": {},
   "cell_type": "markdown",
   "metadata": {
    "tags": []
   },
   "source": [
    "Setup Url_CNNInternacional Var"
   ]
  },
  {
   "cell_type": "code",
   "execution_count": 51,
   "metadata": {},
   "outputs": [
    {
     "name": "stdout",
     "output_type": "stream",
     "text": [
      "https://www.cnnbrasil.com.br/internacional/acidente-de-onibus-deixa-ao-menos-40-mortos-e-diversos-feridos-no-senegal-diz-presidente/\n"
     ]
    }
   ],
   "source": [
    "driver.find_element(By.XPATH, '//*[@id=\"block1810871\"]/div/div/div/div[1]/a/div/h3').click()\n",
    "Url_CNNInternacional = driver.current_url\n",
    "print(Url_CNNInternacional)"
   ]
  },
  {
   "attachments": {},
   "cell_type": "markdown",
   "metadata": {
    "tags": []
   },
   "source": [
    "Setup Topics_CNNInternacional Var"
   ]
  },
  {
   "cell_type": "code",
   "execution_count": 52,
   "metadata": {},
   "outputs": [
    {
     "name": "stdout",
     "output_type": "stream",
     "text": [
      "Senegal\n"
     ]
    }
   ],
   "source": [
    "Topics_CNNInternacional = driver.find_element(By.CLASS_NAME, 'tags__list').text\n",
    "Topics_CNNInternacional = Topics_CNNInternacional.replace('\\n', ', ')\n",
    "print(Topics_CNNInternacional)"
   ]
  },
  {
   "attachments": {},
   "cell_type": "markdown",
   "metadata": {
    "tags": []
   },
   "source": [
    "Setup Titulo_CNNPolitica Var"
   ]
  },
  {
   "cell_type": "code",
   "execution_count": 53,
   "metadata": {},
   "outputs": [
    {
     "name": "stdout",
     "output_type": "stream",
     "text": [
      "Oposição será firme e combativa, diz deputado Ubiratan Sanderson à CNN\n"
     ]
    }
   ],
   "source": [
    "driver.get('https://www.cnnbrasil.com.br/politica/')\n",
    "Titulo_CNNPolitica = driver.find_element(By.XPATH, '//*[@id=\"block1810865\"]/div/div/div/div[1]/a/div/h3').text\n",
    "print(Titulo_CNNPolitica)"
   ]
  },
  {
   "attachments": {},
   "cell_type": "markdown",
   "metadata": {
    "tags": []
   },
   "source": [
    "Setup Url_CNNPolitica Var"
   ]
  },
  {
   "cell_type": "code",
   "execution_count": 54,
   "metadata": {},
   "outputs": [
    {
     "name": "stdout",
     "output_type": "stream",
     "text": [
      "https://www.cnnbrasil.com.br/politica/oposicao-sera-firme-e-combativa-diz-deputado-ubiratan-sanderson-a-cnn/\n"
     ]
    }
   ],
   "source": [
    "driver.find_element(By.XPATH, '//*[@id=\"block1810865\"]/div/div/div/div[1]/a/div/h3').click()\n",
    "Url_CNNPolitica = driver.current_url\n",
    "print(Url_CNNPolitica)"
   ]
  },
  {
   "attachments": {},
   "cell_type": "markdown",
   "metadata": {
    "tags": []
   },
   "source": [
    "Setup Topics_CNNPolitica Var"
   ]
  },
  {
   "cell_type": "code",
   "execution_count": 55,
   "metadata": {},
   "outputs": [
    {
     "name": "stdout",
     "output_type": "stream",
     "text": [
      "Congresso, Congresso Nacional, Luiz Inácio Lula da Silva (Lula), Oposição, Partido Liberal (PL), PL, Política, Senado\n"
     ]
    }
   ],
   "source": [
    "Topics_CNNPolitica = driver.find_element(By.CLASS_NAME, 'tags__list').text\n",
    "Topics_CNNPolitica = Topics_CNNPolitica.replace('\\n', ', ')\n",
    "print(Topics_CNNPolitica)"
   ]
  },
  {
   "attachments": {},
   "cell_type": "markdown",
   "metadata": {
    "tags": []
   },
   "source": [
    "Setup Titulo_CNNBusniess Var"
   ]
  },
  {
   "cell_type": "code",
   "execution_count": 56,
   "metadata": {},
   "outputs": [
    {
     "name": "stdout",
     "output_type": "stream",
     "text": [
      "Efeito total de juros altos em 2023 deve esfriar economia, dizem especialistas\n"
     ]
    }
   ],
   "source": [
    "driver.get('https://www.cnnbrasil.com.br/business/')\n",
    "Titulo_CNNBusiness = driver.find_element(By.XPATH, '//*[@id=\"block1823937\"]/div/div/a/h2').text\n",
    "print(Titulo_CNNBusiness)"
   ]
  },
  {
   "attachments": {},
   "cell_type": "markdown",
   "metadata": {
    "tags": []
   },
   "source": [
    "Setup Url_CNNBusniess Var"
   ]
  },
  {
   "cell_type": "code",
   "execution_count": 57,
   "metadata": {},
   "outputs": [
    {
     "name": "stdout",
     "output_type": "stream",
     "text": [
      "https://www.cnnbrasil.com.br/business/efeito-total-de-juros-altos-em-2023-deve-esfriar-economia-dizem-especialistas/\n"
     ]
    }
   ],
   "source": [
    "driver.find_element(By.XPATH, '//*[@id=\"block1823937\"]/div/div/a/h2').click()\n",
    "Url_CNNBusiness = driver.current_url\n",
    "print(Url_CNNBusiness)"
   ]
  },
  {
   "attachments": {},
   "cell_type": "markdown",
   "metadata": {
    "tags": []
   },
   "source": [
    "Setup Topics_CNNBusniess Var"
   ]
  },
  {
   "cell_type": "code",
   "execution_count": 58,
   "metadata": {},
   "outputs": [
    {
     "name": "stdout",
     "output_type": "stream",
     "text": [
      "Economia, Juros, PIB, PIB (Produto Interno Bruto), Selic, Taxa Selic\n"
     ]
    }
   ],
   "source": [
    "Topics_CNNBusiness = driver.find_element(By.CLASS_NAME, 'tags__list').text\n",
    "Topics_CNNBusiness = Topics_CNNBusiness.replace('\\n', ', ')\n",
    "print(Topics_CNNBusiness)"
   ]
  },
  {
   "cell_type": "code",
   "execution_count": 59,
   "metadata": {},
   "outputs": [],
   "source": [
    "driver.close()"
   ]
  },
  {
   "attachments": {},
   "cell_type": "markdown",
   "metadata": {},
   "source": [
    "Add Row to DataFrame"
   ]
  },
  {
   "cell_type": "code",
   "execution_count": 60,
   "metadata": {},
   "outputs": [],
   "source": [
    "dataset = pd.concat([dataset, pd.DataFrame({\"Date\":[Date], \"WeekDay\":[WeekDay], \"Brazil_Ibovespa\":[Brazil_Ibovespa], \"BRL_Dollar\":[BRL_Dollar], \"Titulo_CNNBrasil\":[Titulo_CNNBrasil], \"Url_CNNBrasil\":[Url_CNNBrasil], \"Topics_CNNBrasil\":[Topics_CNNBrasil], \"Titulo_CNNNacional\":[Titulo_CNNNacional], \"Url_CNNNacional\":[Url_CNNNacional], \"Topics_CNNNacional\":[Topics_CNNNacional], \"Titulo_CNNInternacional\":[Titulo_CNNInternacional], \"Url_CNNInternacional\":[Url_CNNInternacional], \"Topics_CNNInternacional\":[Topics_CNNInternacional], \"Titulo_CNNPolitica\":[Titulo_CNNPolitica], \"Url_CNNPolitica\":[Url_CNNPolitica], \"Topics_CNNPolitica\":[Topics_CNNPolitica], \"Titulo_CNNBusiness\":[Titulo_CNNBusiness], \"Url_CNNBusiness\":[Url_CNNBusiness], \"Topics_CNNBusiness\":[Topics_CNNBusiness]})], ignore_index=True)\n",
    "# dataset = dataset.append({\"Date\":Date, \"WeekDay\": WeekDay}, ignore_index=True)\n",
    "dataset.to_csv('dataset_news.csv', index=False, encoding=\"utf-8-sig\", sep = ';')"
   ]
  },
  {
   "attachments": {},
   "cell_type": "markdown",
   "metadata": {},
   "source": [
    "Saving DataFrame as CSV"
   ]
  },
  {
   "cell_type": "code",
   "execution_count": 61,
   "metadata": {},
   "outputs": [
    {
     "data": {
      "text/html": [
       "<div>\n",
       "<style scoped>\n",
       "    .dataframe tbody tr th:only-of-type {\n",
       "        vertical-align: middle;\n",
       "    }\n",
       "\n",
       "    .dataframe tbody tr th {\n",
       "        vertical-align: top;\n",
       "    }\n",
       "\n",
       "    .dataframe thead th {\n",
       "        text-align: right;\n",
       "    }\n",
       "</style>\n",
       "<table border=\"1\" class=\"dataframe\">\n",
       "  <thead>\n",
       "    <tr style=\"text-align: right;\">\n",
       "      <th></th>\n",
       "      <th>Date</th>\n",
       "      <th>WeekDay</th>\n",
       "      <th>Brazil_Ibovespa</th>\n",
       "      <th>BRL_Dollar</th>\n",
       "      <th>Titulo_CNNBrasil</th>\n",
       "      <th>Url_CNNBrasil</th>\n",
       "      <th>Topics_CNNBrasil</th>\n",
       "      <th>Titulo_CNNNacional</th>\n",
       "      <th>Url_CNNNacional</th>\n",
       "      <th>Topics_CNNNacional</th>\n",
       "      <th>Titulo_CNNInternacional</th>\n",
       "      <th>Url_CNNInternacional</th>\n",
       "      <th>Topics_CNNInternacional</th>\n",
       "      <th>Titulo_CNNPolitica</th>\n",
       "      <th>Url_CNNPolitica</th>\n",
       "      <th>Topics_CNNPolitica</th>\n",
       "      <th>Titulo_CNNBusiness</th>\n",
       "      <th>Url_CNNBusiness</th>\n",
       "      <th>Topics_CNNBusiness</th>\n",
       "    </tr>\n",
       "  </thead>\n",
       "  <tbody>\n",
       "    <tr>\n",
       "      <th>0</th>\n",
       "      <td>08/01/2023</td>\n",
       "      <td>Sunday</td>\n",
       "      <td>108836.0</td>\n",
       "      <td>5.2254</td>\n",
       "      <td>Há uma semana no cargo, Lula enfrenta desgaste...</td>\n",
       "      <td>https://www.cnnbrasil.com.br/politica/ha-uma-s...</td>\n",
       "      <td>Carlos Lupi, Daniela Carneiro, Esplanada dos M...</td>\n",
       "      <td>Prédio desaba parcialmente no centro do Rio de...</td>\n",
       "      <td>https://www.cnnbrasil.com.br/nacional/predio-d...</td>\n",
       "      <td>Desabamentos, Rio de Janeiro (capital)</td>\n",
       "      <td>Acidente de ônibus deixa ao menos 40 mortos e ...</td>\n",
       "      <td>https://www.cnnbrasil.com.br/internacional/aci...</td>\n",
       "      <td>Senegal</td>\n",
       "      <td>Oposição será firme e combativa, diz deputado ...</td>\n",
       "      <td>https://www.cnnbrasil.com.br/politica/oposicao...</td>\n",
       "      <td>Congresso, Congresso Nacional, Luiz Inácio Lul...</td>\n",
       "      <td>Efeito total de juros altos em 2023 deve esfri...</td>\n",
       "      <td>https://www.cnnbrasil.com.br/business/efeito-t...</td>\n",
       "      <td>Economia, Juros, PIB, PIB (Produto Interno Bru...</td>\n",
       "    </tr>\n",
       "  </tbody>\n",
       "</table>\n",
       "</div>"
      ],
      "text/plain": [
       "         Date WeekDay  Brazil_Ibovespa BRL_Dollar  \\\n",
       "0  08/01/2023  Sunday         108836.0     5.2254   \n",
       "\n",
       "                                    Titulo_CNNBrasil  \\\n",
       "0  Há uma semana no cargo, Lula enfrenta desgaste...   \n",
       "\n",
       "                                       Url_CNNBrasil  \\\n",
       "0  https://www.cnnbrasil.com.br/politica/ha-uma-s...   \n",
       "\n",
       "                                    Topics_CNNBrasil  \\\n",
       "0  Carlos Lupi, Daniela Carneiro, Esplanada dos M...   \n",
       "\n",
       "                                  Titulo_CNNNacional  \\\n",
       "0  Prédio desaba parcialmente no centro do Rio de...   \n",
       "\n",
       "                                     Url_CNNNacional  \\\n",
       "0  https://www.cnnbrasil.com.br/nacional/predio-d...   \n",
       "\n",
       "                       Topics_CNNNacional  \\\n",
       "0  Desabamentos, Rio de Janeiro (capital)   \n",
       "\n",
       "                             Titulo_CNNInternacional  \\\n",
       "0  Acidente de ônibus deixa ao menos 40 mortos e ...   \n",
       "\n",
       "                                Url_CNNInternacional Topics_CNNInternacional  \\\n",
       "0  https://www.cnnbrasil.com.br/internacional/aci...                 Senegal   \n",
       "\n",
       "                                  Titulo_CNNPolitica  \\\n",
       "0  Oposição será firme e combativa, diz deputado ...   \n",
       "\n",
       "                                     Url_CNNPolitica  \\\n",
       "0  https://www.cnnbrasil.com.br/politica/oposicao...   \n",
       "\n",
       "                                  Topics_CNNPolitica  \\\n",
       "0  Congresso, Congresso Nacional, Luiz Inácio Lul...   \n",
       "\n",
       "                                  Titulo_CNNBusiness  \\\n",
       "0  Efeito total de juros altos em 2023 deve esfri...   \n",
       "\n",
       "                                     Url_CNNBusiness  \\\n",
       "0  https://www.cnnbrasil.com.br/business/efeito-t...   \n",
       "\n",
       "                                  Topics_CNNBusiness  \n",
       "0  Economia, Juros, PIB, PIB (Produto Interno Bru...  "
      ]
     },
     "metadata": {},
     "output_type": "display_data"
    },
    {
     "name": "stdout",
     "output_type": "stream",
     "text": [
      "Adicionado 08/01/2023 - Sunday ao dataset\n"
     ]
    }
   ],
   "source": [
    "display(dataset)\n",
    "print(f'Adicionado {Date} - {WeekDay} ao dataset')"
   ]
  }
 ],
 "metadata": {
  "kernelspec": {
   "display_name": "Python 3",
   "language": "python",
   "name": "python3"
  },
  "language_info": {
   "codemirror_mode": {
    "name": "ipython",
    "version": 3
   },
   "file_extension": ".py",
   "mimetype": "text/x-python",
   "name": "python",
   "nbconvert_exporter": "python",
   "pygments_lexer": "ipython3",
   "version": "3.10.9"
  },
  "orig_nbformat": 4,
  "vscode": {
   "interpreter": {
    "hash": "1c52493868dc53dbd5c75ab4669d3650689c9c6f97c2bf57df2ba7b019149d15"
   }
  }
 },
 "nbformat": 4,
 "nbformat_minor": 2
}
