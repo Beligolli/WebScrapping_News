{
 "cells": [
  {
   "cell_type": "code",
   "execution_count": 49,
   "metadata": {},
   "outputs": [
    {
     "data": {
      "text/plain": [
       "'\\nWe are going to web scrappe the data from the CNN Brasil website.\\n'"
      ]
     },
     "execution_count": 49,
     "metadata": {},
     "output_type": "execute_result"
    }
   ],
   "source": [
    "\"\"\"\n",
    "We are going to web scrappe the data from the CNN Brasil website.\n",
    "\"\"\"\n",
    "\n",
    "# Date\n",
    "\n",
    "# WeekDay\n",
    "\n",
    "# Brazil Stock Market position\n",
    "\n",
    "# BRL - Dollar\n",
    "\n",
    "# Info Head CNN Brasil\n",
    "\n",
    "# Info Head CNN aba Nacional\n",
    "\n",
    "# Info Head CNN aba Internacional\n",
    "\n",
    "# Info Head CNN aba Politica\n",
    "\n",
    "# Info Head CNN aba Business\n",
    "\n",
    "# Titulo\n",
    "# URL\n",
    "# Topics\n",
    "\n"
   ]
  },
  {
   "cell_type": "code",
   "execution_count": 50,
   "metadata": {},
   "outputs": [],
   "source": [
    "import pandas as pd\n",
    "from datetime import datetime\n",
    "import requests\n",
    "import json\n",
    "from pandas_datareader import data as web\n",
    "import yfinance as yf\n",
    "from selenium import webdriver\n",
    "from selenium.webdriver.common.by import By\n",
    "from time import sleep\n",
    "from datetime import date, timedelta\n",
    "from selenium.webdriver.chrome.options import Options\n",
    "\n",
    "#criar um CVS file\n",
    "#criar os nomes das colunas\n",
    "#adicionar itens nas colunas"
   ]
  },
  {
   "attachments": {},
   "cell_type": "markdown",
   "metadata": {},
   "source": [
    "Creating DataFrame"
   ]
  },
  {
   "cell_type": "code",
   "execution_count": 51,
   "metadata": {},
   "outputs": [
    {
     "data": {
      "text/html": [
       "<div>\n",
       "<style scoped>\n",
       "    .dataframe tbody tr th:only-of-type {\n",
       "        vertical-align: middle;\n",
       "    }\n",
       "\n",
       "    .dataframe tbody tr th {\n",
       "        vertical-align: top;\n",
       "    }\n",
       "\n",
       "    .dataframe thead th {\n",
       "        text-align: right;\n",
       "    }\n",
       "</style>\n",
       "<table border=\"1\" class=\"dataframe\">\n",
       "  <thead>\n",
       "    <tr style=\"text-align: right;\">\n",
       "      <th></th>\n",
       "      <th>Date</th>\n",
       "      <th>WeekDay</th>\n",
       "      <th>Brazil_Ibovespa</th>\n",
       "      <th>BRL_Dollar</th>\n",
       "      <th>Titulo_CNNBrasil</th>\n",
       "      <th>Url_CNNBrasil</th>\n",
       "      <th>Topics_CNNBrasil</th>\n",
       "      <th>Titulo_CNNNacional</th>\n",
       "      <th>Url_CNNNacional</th>\n",
       "      <th>Topics_CNNNacional</th>\n",
       "      <th>Titulo_CNNInternacional</th>\n",
       "      <th>Url_CNNInternacional</th>\n",
       "      <th>Topics_CNNInternacional</th>\n",
       "      <th>Titulo_CNNPolitica</th>\n",
       "      <th>Url_CNNPolitica</th>\n",
       "      <th>Topics_CNNPolitica</th>\n",
       "      <th>Titulo_CNNBusiness</th>\n",
       "      <th>Url_CNNBusiness</th>\n",
       "      <th>Topics_CNNBusiness</th>\n",
       "    </tr>\n",
       "  </thead>\n",
       "  <tbody>\n",
       "    <tr>\n",
       "      <th>0</th>\n",
       "      <td>10/01/2023</td>\n",
       "      <td>Tuesday</td>\n",
       "      <td>109227.0</td>\n",
       "      <td>5.2169</td>\n",
       "      <td>Torres de energia são derrubadas no Paraná e e...</td>\n",
       "      <td>https://www.cnnbrasil.com.br/business/torres-d...</td>\n",
       "      <td>ANEEL (Agência Nacional de Energia Elétrica), ...</td>\n",
       "      <td>Policiais que colocaram sacola na cabeça de mu...</td>\n",
       "      <td>https://www.cnnbrasil.com.br/nacional/policiai...</td>\n",
       "      <td>Ministério Público, PM (Polícia Militar), Rio ...</td>\n",
       "      <td>Artilharia russa está reduzida em quase 75%, d...</td>\n",
       "      <td>https://www.cnnbrasil.com.br/internacional/art...</td>\n",
       "      <td>Estados Unidos, Rússia, Rússia x Ucrânia, Ucrâ...</td>\n",
       "      <td>Policiais sobre críticos ao alojamento no DF: ...</td>\n",
       "      <td>https://www.cnnbrasil.com.br/politica/policiai...</td>\n",
       "      <td>acampamentos, Ataque aos Três Poderes, Invasão...</td>\n",
       "      <td>BC precisa de mais tempo para voltar a cumprir...</td>\n",
       "      <td>https://www.cnnbrasil.com.br/business/bc-preci...</td>\n",
       "      <td>Banco Central (BC), IPCA, Taxa de juros</td>\n",
       "    </tr>\n",
       "    <tr>\n",
       "      <th>1</th>\n",
       "      <td>10/01/2023</td>\n",
       "      <td>Tuesday</td>\n",
       "      <td>109227.0</td>\n",
       "      <td>5.2020</td>\n",
       "      <td>Moraes ordena prisão do ex-comandante da PM do DF</td>\n",
       "      <td>https://www.cnnbrasil.com.br/politica/moraes-o...</td>\n",
       "      <td>None</td>\n",
       "      <td>Policiais que colocaram sacola na cabeça de mu...</td>\n",
       "      <td>https://www.cnnbrasil.com.br/nacional/policiai...</td>\n",
       "      <td>Ministério Público, PM (Polícia Militar), Rio ...</td>\n",
       "      <td>Ucranianos começarão na próxima semana a trein...</td>\n",
       "      <td>https://www.cnnbrasil.com.br/internacional/ucr...</td>\n",
       "      <td>EUA, Guerra da Ucrânia, Guerras e conflitos, J...</td>\n",
       "      <td>Parlamentares debatem se houve abuso na detenç...</td>\n",
       "      <td>https://www.cnnbrasil.com.br/politica/parlamen...</td>\n",
       "      <td>Ataque aos Três Poderes, Brasília, Esplanada, ...</td>\n",
       "      <td>BC precisa de mais tempo para voltar a cumprir...</td>\n",
       "      <td>https://www.cnnbrasil.com.br/business/bc-preci...</td>\n",
       "      <td>Banco Central (BC), IPCA, Taxa de juros</td>\n",
       "    </tr>\n",
       "  </tbody>\n",
       "</table>\n",
       "</div>"
      ],
      "text/plain": [
       "         Date  WeekDay  Brazil_Ibovespa  BRL_Dollar  \\\n",
       "0  10/01/2023  Tuesday         109227.0      5.2169   \n",
       "1  10/01/2023  Tuesday         109227.0      5.2020   \n",
       "\n",
       "                                    Titulo_CNNBrasil  \\\n",
       "0  Torres de energia são derrubadas no Paraná e e...   \n",
       "1  Moraes ordena prisão do ex-comandante da PM do DF   \n",
       "\n",
       "                                       Url_CNNBrasil  \\\n",
       "0  https://www.cnnbrasil.com.br/business/torres-d...   \n",
       "1  https://www.cnnbrasil.com.br/politica/moraes-o...   \n",
       "\n",
       "                                    Topics_CNNBrasil  \\\n",
       "0  ANEEL (Agência Nacional de Energia Elétrica), ...   \n",
       "1                                               None   \n",
       "\n",
       "                                  Titulo_CNNNacional  \\\n",
       "0  Policiais que colocaram sacola na cabeça de mu...   \n",
       "1  Policiais que colocaram sacola na cabeça de mu...   \n",
       "\n",
       "                                     Url_CNNNacional  \\\n",
       "0  https://www.cnnbrasil.com.br/nacional/policiai...   \n",
       "1  https://www.cnnbrasil.com.br/nacional/policiai...   \n",
       "\n",
       "                                  Topics_CNNNacional  \\\n",
       "0  Ministério Público, PM (Polícia Militar), Rio ...   \n",
       "1  Ministério Público, PM (Polícia Militar), Rio ...   \n",
       "\n",
       "                             Titulo_CNNInternacional  \\\n",
       "0  Artilharia russa está reduzida em quase 75%, d...   \n",
       "1  Ucranianos começarão na próxima semana a trein...   \n",
       "\n",
       "                                Url_CNNInternacional  \\\n",
       "0  https://www.cnnbrasil.com.br/internacional/art...   \n",
       "1  https://www.cnnbrasil.com.br/internacional/ucr...   \n",
       "\n",
       "                             Topics_CNNInternacional  \\\n",
       "0  Estados Unidos, Rússia, Rússia x Ucrânia, Ucrâ...   \n",
       "1  EUA, Guerra da Ucrânia, Guerras e conflitos, J...   \n",
       "\n",
       "                                  Titulo_CNNPolitica  \\\n",
       "0  Policiais sobre críticos ao alojamento no DF: ...   \n",
       "1  Parlamentares debatem se houve abuso na detenç...   \n",
       "\n",
       "                                     Url_CNNPolitica  \\\n",
       "0  https://www.cnnbrasil.com.br/politica/policiai...   \n",
       "1  https://www.cnnbrasil.com.br/politica/parlamen...   \n",
       "\n",
       "                                  Topics_CNNPolitica  \\\n",
       "0  acampamentos, Ataque aos Três Poderes, Invasão...   \n",
       "1  Ataque aos Três Poderes, Brasília, Esplanada, ...   \n",
       "\n",
       "                                  Titulo_CNNBusiness  \\\n",
       "0  BC precisa de mais tempo para voltar a cumprir...   \n",
       "1  BC precisa de mais tempo para voltar a cumprir...   \n",
       "\n",
       "                                     Url_CNNBusiness  \\\n",
       "0  https://www.cnnbrasil.com.br/business/bc-preci...   \n",
       "1  https://www.cnnbrasil.com.br/business/bc-preci...   \n",
       "\n",
       "                        Topics_CNNBusiness  \n",
       "0  Banco Central (BC), IPCA, Taxa de juros  \n",
       "1  Banco Central (BC), IPCA, Taxa de juros  "
      ]
     },
     "metadata": {},
     "output_type": "display_data"
    }
   ],
   "source": [
    "# dataset = pd.DataFrame(\n",
    "#     {\"Date\":[],\n",
    "#      \"WeekDay\":[],\n",
    "#      \"Brazil_Ibovespa\":[],\n",
    "#      \"BRL_Dollar\":[],\n",
    "#      \"Titulo_CNNBrasil\":[],\n",
    "#      \"Url_CNNBrasil\":[],\n",
    "#      \"Topics_CNNBrasil\":[],\n",
    "#      \"Titulo_CNNNacional\":[],\n",
    "#      \"Url_CNNNacional\":[],\n",
    "#      \"Topics_CNNNacional\":[],\n",
    "#      \"Titulo_CNNInternacional\":[],\n",
    "#      \"Url_CNNInternacional\":[],\n",
    "#      \"Topics_CNNInternacional\":[],\n",
    "#      \"Titulo_CNNPolitica\":[],\n",
    "#      \"Url_CNNPolitica\":[],\n",
    "#      \"Topics_CNNPolitica\":[],\n",
    "#      \"Titulo_CNNBusiness\":[],\n",
    "#      \"Url_CNNBusiness\":[],\n",
    "#      \"Topics_CNNBusiness\":[],\n",
    "#         })\n",
    "# dataset.to_csv(r\"C:\\Users\\belig\\OneDrive\\Python\\MeuProjeto\\Projetos\\WebScrapping_News\\WebScrapping_News\\dataset.csv\", index=False)\n",
    "dataset = pd.read_csv(r\"C:\\Users\\belig\\OneDrive\\Python\\MeuProjeto\\Projetos\\WebScrapping_News\\WebScrapping_News\\dataset_news.csv\", sep=\";\")\n",
    "display(dataset)"
   ]
  },
  {
   "attachments": {},
   "cell_type": "markdown",
   "metadata": {},
   "source": [
    "Creating Variables"
   ]
  },
  {
   "cell_type": "code",
   "execution_count": 52,
   "metadata": {},
   "outputs": [],
   "source": [
    "Date = 1\n",
    "WeekDay = 2\n",
    "Brazil_Ibovespa = 3\n",
    "BRL_Dollar = 4\n",
    "Titulo_CNNBrasil = 5\n",
    "Url_CNNBrasil = 6\n",
    "Topics_CNNBrasil = 7\n",
    "Titulo_CNNNacional = 8\n",
    "Url_CNNNacional = 9\n",
    "Topics_CNNNacional = 10\n",
    "Titulo_CNNInternacional = 11\n",
    "Url_CNNInternacional = 12\n",
    "Topics_CNNInternacional = 13\n",
    "Titulo_CNNPolitica = 14\n",
    "Url_CNNPolitica = 15\n",
    "Topics_CNNPolitica = 16\n",
    "Titulo_CNNBusiness = 17\n",
    "Url_CNNBusiness = 18\n",
    "Topics_CNNBusiness = 19"
   ]
  },
  {
   "cell_type": "markdown",
   "metadata": {
    "tags": []
   },
   "source": [
    "Setup Date Var"
   ]
  },
  {
   "cell_type": "code",
   "execution_count": 53,
   "metadata": {},
   "outputs": [
    {
     "data": {
      "text/plain": [
       "'10/01/2023'"
      ]
     },
     "execution_count": 53,
     "metadata": {},
     "output_type": "execute_result"
    }
   ],
   "source": [
    "Date = datetime.now().strftime(\"%d/%m/%Y\")\n",
    "Date"
   ]
  },
  {
   "attachments": {},
   "cell_type": "markdown",
   "metadata": {
    "tags": []
   },
   "source": [
    "Setup WeekDay Var"
   ]
  },
  {
   "cell_type": "code",
   "execution_count": 54,
   "metadata": {},
   "outputs": [
    {
     "data": {
      "text/plain": [
       "'Tuesday'"
      ]
     },
     "execution_count": 54,
     "metadata": {},
     "output_type": "execute_result"
    }
   ],
   "source": [
    "date_now = datetime.now()\n",
    "WeekDay = date_now.strftime(\"%A\")\n",
    "WeekDay"
   ]
  },
  {
   "attachments": {},
   "cell_type": "markdown",
   "metadata": {
    "tags": []
   },
   "source": [
    "Setup Brazil_Ibovespa Var"
   ]
  },
  {
   "cell_type": "code",
   "execution_count": 77,
   "metadata": {},
   "outputs": [
    {
     "name": "stdout",
     "output_type": "stream",
     "text": [
      "[*********************100%***********************]  1 of 1 completed\n",
      "                Open      High       Low     Close  Adj Close    Volume\n",
      "Date                                                                   \n",
      "2023-01-03  106377.0  106684.0  103852.0  104166.0   104166.0  14466700\n",
      "2023-01-04  104167.0  105627.0  103915.0  105334.0   105334.0  14451200\n",
      "2023-01-05  105336.0  107743.0  105333.0  107518.0   107518.0  15512000\n",
      "2023-01-06  107642.0  109433.0  107642.0  108836.0   108836.0  12626600\n",
      "2023-01-09  108964.0  109938.0  108134.0  109227.0   109227.0  12047300\n"
     ]
    },
    {
     "data": {
      "text/plain": [
       "109227.0"
      ]
     },
     "execution_count": 77,
     "metadata": {},
     "output_type": "execute_result"
    }
   ],
   "source": [
    "today = date.today()\n",
    "start_day = today - timedelta(days = 7)\n",
    "tickers_DowJones = \"^BVSP\"\n",
    "datayf = yf.download(tickers_DowJones, start=start_day, end=today)\n",
    "print(datayf)\n",
    "datayf = datayf['Adj Close']\n",
    "\n",
    "Brazil_Ibovespa = datayf[-1]\n",
    "Brazil_Ibovespa"
   ]
  },
  {
   "attachments": {},
   "cell_type": "markdown",
   "metadata": {
    "tags": []
   },
   "source": [
    "Setup BRL_Dollar Var"
   ]
  },
  {
   "cell_type": "code",
   "execution_count": 56,
   "metadata": {},
   "outputs": [
    {
     "data": {
      "text/plain": [
       "'5.204'"
      ]
     },
     "execution_count": 56,
     "metadata": {},
     "output_type": "execute_result"
    }
   ],
   "source": [
    "requisicao = requests.get('https://economia.awesomeapi.com.br/all/USD-BRL')\n",
    "cotacao = requisicao.json()\n",
    "BRL_Dollar = cotacao['USD']['bid']\n",
    "BRL_Dollar"
   ]
  },
  {
   "attachments": {},
   "cell_type": "markdown",
   "metadata": {},
   "source": [
    "Starting Driver WebScrapping (option to hide windown)"
   ]
  },
  {
   "cell_type": "code",
   "execution_count": 57,
   "metadata": {},
   "outputs": [],
   "source": [
    "driver_exe = 'chromedriver'\n",
    "options = Options()\n",
    "options.add_argument(\"--headless\")\n",
    "driver = webdriver.Chrome(driver_exe, options=options)\n"
   ]
  },
  {
   "attachments": {},
   "cell_type": "markdown",
   "metadata": {
    "tags": []
   },
   "source": [
    "Setup Titulo_CNNBrasil Var"
   ]
  },
  {
   "cell_type": "code",
   "execution_count": 58,
   "metadata": {},
   "outputs": [
    {
     "name": "stdout",
     "output_type": "stream",
     "text": [
      "Moraes ordena prisão do ex-comandante da PM do DF\n"
     ]
    }
   ],
   "source": [
    "driver.get('https://www.cnnbrasil.com.br/')\n",
    "Titulo_CNNBrasil = driver.find_element(By.XPATH, '//*[@id=\"block1847327\"]/div/div/a/h2').text\n",
    "print(Titulo_CNNBrasil)"
   ]
  },
  {
   "attachments": {},
   "cell_type": "markdown",
   "metadata": {
    "tags": []
   },
   "source": [
    "Setup Url_CNNBrasil Var"
   ]
  },
  {
   "cell_type": "code",
   "execution_count": 59,
   "metadata": {},
   "outputs": [
    {
     "name": "stdout",
     "output_type": "stream",
     "text": [
      "https://www.cnnbrasil.com.br/politica/moraes-ordena-a-prisao-do-ex-comandante-da-policia-militar-do-df/\n"
     ]
    }
   ],
   "source": [
    "driver.find_element(By.XPATH, '//*[@id=\"block1847327\"]/div/div/a/h2').click()\n",
    "Url_CNNBrasil = driver.current_url\n",
    "print(Url_CNNBrasil)"
   ]
  },
  {
   "attachments": {},
   "cell_type": "markdown",
   "metadata": {
    "tags": []
   },
   "source": [
    "Setup Topics_CNNBrasil Var"
   ]
  },
  {
   "cell_type": "code",
   "execution_count": 60,
   "metadata": {},
   "outputs": [
    {
     "name": "stdout",
     "output_type": "stream",
     "text": [
      "Alexandre de Moraes, Ataque aos Três Poderes, Celina Leão, Flávio Dino, Ibaneis Rocha, Invasão em Brasília, PM (Polícia Militar), STF (Supremo Tribunal Federal)\n"
     ]
    }
   ],
   "source": [
    "try:\n",
    "    Topics_CNNBrasil =  driver.find_element(By.CLASS_NAME, 'tags__list').text\n",
    "    Topics_CNNBrasil = Topics_CNNBrasil.replace('\\n', ', ')\n",
    "    print(Topics_CNNBrasil)\n",
    "except:\n",
    "    Topics_CNNBrasil = 'None'\n",
    "    print"
   ]
  },
  {
   "attachments": {},
   "cell_type": "markdown",
   "metadata": {
    "tags": []
   },
   "source": [
    "Setup Titulo_CNNNacional Var"
   ]
  },
  {
   "cell_type": "code",
   "execution_count": 61,
   "metadata": {},
   "outputs": [
    {
     "name": "stdout",
     "output_type": "stream",
     "text": [
      "Policiais que colocaram sacola na cabeça de mulher no RS são denunciados por tortura\n"
     ]
    }
   ],
   "source": [
    "driver.get('https://www.cnnbrasil.com.br/nacional/')\n",
    "Titulo_CNNNacional = driver.find_element(By.XPATH, '//*[@id=\"block1810868\"]/div/div/div/div[1]/a/div/h3').text\n",
    "print(Titulo_CNNNacional)"
   ]
  },
  {
   "attachments": {},
   "cell_type": "markdown",
   "metadata": {
    "tags": []
   },
   "source": [
    "Setup Url_CNNNacional Var"
   ]
  },
  {
   "cell_type": "code",
   "execution_count": 62,
   "metadata": {},
   "outputs": [
    {
     "name": "stdout",
     "output_type": "stream",
     "text": [
      "https://www.cnnbrasil.com.br/nacional/policiais-que-colocaram-sacola-na-cabeca-de-mulher-no-rs-sao-denunciados-por-tortura/\n"
     ]
    }
   ],
   "source": [
    "driver.find_element(By.XPATH, '//*[@id=\"block1810868\"]/div/div/div/div[1]/a/div/h3').click()\n",
    "Url_CNNNacional = driver.current_url\n",
    "print(Url_CNNNacional)"
   ]
  },
  {
   "attachments": {},
   "cell_type": "markdown",
   "metadata": {
    "tags": []
   },
   "source": [
    "Setup Topics_CNNNacional Var"
   ]
  },
  {
   "cell_type": "code",
   "execution_count": 63,
   "metadata": {},
   "outputs": [
    {
     "name": "stdout",
     "output_type": "stream",
     "text": [
      "Ministério Público, PM (Polícia Militar), Rio Grande do Sul, Violência\n"
     ]
    }
   ],
   "source": [
    "try:\n",
    "    Topics_CNNNacional = driver.find_element(By.CLASS_NAME, 'tags__list').text\n",
    "    Topics_CNNNacional = Topics_CNNNacional.replace('\\n', ', ')\n",
    "    print(Topics_CNNNacional)\n",
    "except:\n",
    "    Topics_CNNNacional = 'None'\n",
    "    print"
   ]
  },
  {
   "attachments": {},
   "cell_type": "markdown",
   "metadata": {
    "tags": []
   },
   "source": [
    "Setup Titulo_CNNInternacional Var"
   ]
  },
  {
   "cell_type": "code",
   "execution_count": 64,
   "metadata": {},
   "outputs": [
    {
     "name": "stdout",
     "output_type": "stream",
     "text": [
      "Ucranianos começarão na próxima semana a treinar mísseis nos EUA, dizem autoridades\n"
     ]
    }
   ],
   "source": [
    "driver.get('https://www.cnnbrasil.com.br/internacional/')\n",
    "Titulo_CNNInternacional = driver.find_element(By.XPATH, '//*[@id=\"block1810871\"]/div/div/div/div[1]/a/div/h3').text\n",
    "print(Titulo_CNNInternacional)"
   ]
  },
  {
   "attachments": {},
   "cell_type": "markdown",
   "metadata": {
    "tags": []
   },
   "source": [
    "Setup Url_CNNInternacional Var"
   ]
  },
  {
   "cell_type": "code",
   "execution_count": 65,
   "metadata": {},
   "outputs": [
    {
     "name": "stdout",
     "output_type": "stream",
     "text": [
      "https://www.cnnbrasil.com.br/internacional/ucranianos-comecarao-na-proxima-semana-a-treinar-misseis-nos-eua-dizem-autoridades/\n"
     ]
    }
   ],
   "source": [
    "driver.find_element(By.XPATH, '//*[@id=\"block1810871\"]/div/div/div/div[1]/a/div/h3').click()\n",
    "Url_CNNInternacional = driver.current_url\n",
    "print(Url_CNNInternacional)"
   ]
  },
  {
   "attachments": {},
   "cell_type": "markdown",
   "metadata": {
    "tags": []
   },
   "source": [
    "Setup Topics_CNNInternacional Var"
   ]
  },
  {
   "cell_type": "code",
   "execution_count": 66,
   "metadata": {},
   "outputs": [
    {
     "name": "stdout",
     "output_type": "stream",
     "text": [
      "EUA, Guerra da Ucrânia, Guerras e conflitos, Joe Biden, Ucrânia, Volodymyr Zelensky\n"
     ]
    }
   ],
   "source": [
    "try:\n",
    "    Topics_CNNInternacional = driver.find_element(By.CLASS_NAME, 'tags__list').text\n",
    "    Topics_CNNInternacional = Topics_CNNInternacional.replace('\\n', ', ')\n",
    "    print(Topics_CNNInternacional)\n",
    "except:\n",
    "    Topics_CNNInternacional = 'None'\n",
    "    print"
   ]
  },
  {
   "attachments": {},
   "cell_type": "markdown",
   "metadata": {
    "tags": []
   },
   "source": [
    "Setup Titulo_CNNPolitica Var"
   ]
  },
  {
   "cell_type": "code",
   "execution_count": 67,
   "metadata": {},
   "outputs": [
    {
     "name": "stdout",
     "output_type": "stream",
     "text": [
      "Parlamentares debatem se houve abuso na detenção dos invasores da Esplanada\n"
     ]
    }
   ],
   "source": [
    "driver.get('https://www.cnnbrasil.com.br/politica/')\n",
    "Titulo_CNNPolitica = driver.find_element(By.XPATH, '//*[@id=\"block1810865\"]/div/div/div/div[1]/a/div/h3').text\n",
    "print(Titulo_CNNPolitica)"
   ]
  },
  {
   "attachments": {},
   "cell_type": "markdown",
   "metadata": {
    "tags": []
   },
   "source": [
    "Setup Url_CNNPolitica Var"
   ]
  },
  {
   "cell_type": "code",
   "execution_count": 68,
   "metadata": {},
   "outputs": [
    {
     "name": "stdout",
     "output_type": "stream",
     "text": [
      "https://www.cnnbrasil.com.br/politica/parlamentares-debatem-se-houve-abuso-na-detencao-dos-invasores-da-esplanada/\n"
     ]
    }
   ],
   "source": [
    "driver.find_element(By.XPATH, '//*[@id=\"block1810865\"]/div/div/div/div[1]/a/div/h3').click()\n",
    "Url_CNNPolitica = driver.current_url\n",
    "print(Url_CNNPolitica)"
   ]
  },
  {
   "attachments": {},
   "cell_type": "markdown",
   "metadata": {
    "tags": []
   },
   "source": [
    "Setup Topics_CNNPolitica Var"
   ]
  },
  {
   "cell_type": "code",
   "execution_count": 69,
   "metadata": {},
   "outputs": [
    {
     "name": "stdout",
     "output_type": "stream",
     "text": [
      "Ataque aos Três Poderes, Brasília, Esplanada, Esplanada dos Ministérios, Judiciário, Poder Judiciário, Três Poderes\n"
     ]
    }
   ],
   "source": [
    "try:\n",
    "    Topics_CNNPolitica = driver.find_element(By.CLASS_NAME, 'tags__list').text\n",
    "    Topics_CNNPolitica = Topics_CNNPolitica.replace('\\n', ', ')\n",
    "    print(Topics_CNNPolitica)\n",
    "except:\n",
    "    Topics_CNNPolitica = 'None'\n",
    "    print"
   ]
  },
  {
   "attachments": {},
   "cell_type": "markdown",
   "metadata": {
    "tags": []
   },
   "source": [
    "Setup Titulo_CNNBusniess Var"
   ]
  },
  {
   "cell_type": "code",
   "execution_count": 70,
   "metadata": {},
   "outputs": [
    {
     "name": "stdout",
     "output_type": "stream",
     "text": [
      "BC precisa de mais tempo para voltar a cumprir meta de inflação\n"
     ]
    }
   ],
   "source": [
    "driver.get('https://www.cnnbrasil.com.br/business/')\n",
    "Titulo_CNNBusiness = driver.find_element(By.XPATH, '//*[@id=\"block1823937\"]/div/div/a/h2').text\n",
    "print(Titulo_CNNBusiness)"
   ]
  },
  {
   "attachments": {},
   "cell_type": "markdown",
   "metadata": {
    "tags": []
   },
   "source": [
    "Setup Url_CNNBusniess Var"
   ]
  },
  {
   "cell_type": "code",
   "execution_count": 71,
   "metadata": {},
   "outputs": [
    {
     "name": "stdout",
     "output_type": "stream",
     "text": [
      "https://www.cnnbrasil.com.br/business/bc-precisa-de-mais-tempo-para-voltar-a-cumprir-meta-de-inflacao/\n"
     ]
    }
   ],
   "source": [
    "driver.find_element(By.XPATH, '//*[@id=\"block1823937\"]/div/div/a/h2').click()\n",
    "Url_CNNBusiness = driver.current_url\n",
    "print(Url_CNNBusiness)"
   ]
  },
  {
   "attachments": {},
   "cell_type": "markdown",
   "metadata": {
    "tags": []
   },
   "source": [
    "Setup Topics_CNNBusniess Var"
   ]
  },
  {
   "cell_type": "code",
   "execution_count": 72,
   "metadata": {},
   "outputs": [
    {
     "name": "stdout",
     "output_type": "stream",
     "text": [
      "Banco Central (BC), IPCA, Taxa de juros\n"
     ]
    }
   ],
   "source": [
    "try:\n",
    "    Topics_CNNBusiness = driver.find_element(By.CLASS_NAME, 'tags__list').text\n",
    "    Topics_CNNBusiness = Topics_CNNBusiness.replace('\\n', ', ')\n",
    "    print(Topics_CNNBusiness)\n",
    "except:\n",
    "    Topics_CNNBusiness = 'None'\n",
    "    print"
   ]
  },
  {
   "cell_type": "code",
   "execution_count": 73,
   "metadata": {},
   "outputs": [],
   "source": [
    "driver.close()"
   ]
  },
  {
   "attachments": {},
   "cell_type": "markdown",
   "metadata": {},
   "source": [
    "Add Row to DataFrame"
   ]
  },
  {
   "cell_type": "code",
   "execution_count": 74,
   "metadata": {},
   "outputs": [
    {
     "name": "stdout",
     "output_type": "stream",
     "text": [
      "         Date  WeekDay  Brazil_Ibovespa BRL_Dollar  \\\n",
      "0  10/01/2023  Tuesday         109227.0      5.204   \n",
      "\n",
      "                                    Titulo_CNNBrasil  \\\n",
      "0  Moraes ordena prisão do ex-comandante da PM do DF   \n",
      "\n",
      "                                       Url_CNNBrasil  \\\n",
      "0  https://www.cnnbrasil.com.br/politica/moraes-o...   \n",
      "\n",
      "                                    Topics_CNNBrasil  \\\n",
      "0  Alexandre de Moraes, Ataque aos Três Poderes, ...   \n",
      "\n",
      "                                  Titulo_CNNNacional  \\\n",
      "0  Policiais que colocaram sacola na cabeça de mu...   \n",
      "\n",
      "                                     Url_CNNNacional  \\\n",
      "0  https://www.cnnbrasil.com.br/nacional/policiai...   \n",
      "\n",
      "                                  Topics_CNNNacional  \\\n",
      "0  Ministério Público, PM (Polícia Militar), Rio ...   \n",
      "\n",
      "                             Titulo_CNNInternacional  \\\n",
      "0  Ucranianos começarão na próxima semana a trein...   \n",
      "\n",
      "                                Url_CNNInternacional  \\\n",
      "0  https://www.cnnbrasil.com.br/internacional/ucr...   \n",
      "\n",
      "                             Topics_CNNInternacional  \\\n",
      "0  EUA, Guerra da Ucrânia, Guerras e conflitos, J...   \n",
      "\n",
      "                                  Titulo_CNNPolitica  \\\n",
      "0  Parlamentares debatem se houve abuso na detenç...   \n",
      "\n",
      "                                     Url_CNNPolitica  \\\n",
      "0  https://www.cnnbrasil.com.br/politica/parlamen...   \n",
      "\n",
      "                                  Topics_CNNPolitica  \\\n",
      "0  Ataque aos Três Poderes, Brasília, Esplanada, ...   \n",
      "\n",
      "                                  Titulo_CNNBusiness  \\\n",
      "0  BC precisa de mais tempo para voltar a cumprir...   \n",
      "\n",
      "                                     Url_CNNBusiness  \\\n",
      "0  https://www.cnnbrasil.com.br/business/bc-preci...   \n",
      "\n",
      "                        Topics_CNNBusiness  \n",
      "0  Banco Central (BC), IPCA, Taxa de juros  \n",
      "         Date  WeekDay  Brazil_Ibovespa BRL_Dollar  \\\n",
      "0  10/01/2023  Tuesday         109227.0     5.2169   \n",
      "1  10/01/2023  Tuesday         109227.0      5.202   \n",
      "2  10/01/2023  Tuesday         109227.0      5.204   \n",
      "\n",
      "                                    Titulo_CNNBrasil  \\\n",
      "0  Torres de energia são derrubadas no Paraná e e...   \n",
      "1  Moraes ordena prisão do ex-comandante da PM do DF   \n",
      "2  Moraes ordena prisão do ex-comandante da PM do DF   \n",
      "\n",
      "                                       Url_CNNBrasil  \\\n",
      "0  https://www.cnnbrasil.com.br/business/torres-d...   \n",
      "1  https://www.cnnbrasil.com.br/politica/moraes-o...   \n",
      "2  https://www.cnnbrasil.com.br/politica/moraes-o...   \n",
      "\n",
      "                                    Topics_CNNBrasil  \\\n",
      "0  ANEEL (Agência Nacional de Energia Elétrica), ...   \n",
      "1                                               None   \n",
      "2  Alexandre de Moraes, Ataque aos Três Poderes, ...   \n",
      "\n",
      "                                  Titulo_CNNNacional  \\\n",
      "0  Policiais que colocaram sacola na cabeça de mu...   \n",
      "1  Policiais que colocaram sacola na cabeça de mu...   \n",
      "2  Policiais que colocaram sacola na cabeça de mu...   \n",
      "\n",
      "                                     Url_CNNNacional  \\\n",
      "0  https://www.cnnbrasil.com.br/nacional/policiai...   \n",
      "1  https://www.cnnbrasil.com.br/nacional/policiai...   \n",
      "2  https://www.cnnbrasil.com.br/nacional/policiai...   \n",
      "\n",
      "                                  Topics_CNNNacional  \\\n",
      "0  Ministério Público, PM (Polícia Militar), Rio ...   \n",
      "1  Ministério Público, PM (Polícia Militar), Rio ...   \n",
      "2  Ministério Público, PM (Polícia Militar), Rio ...   \n",
      "\n",
      "                             Titulo_CNNInternacional  \\\n",
      "0  Artilharia russa está reduzida em quase 75%, d...   \n",
      "1  Ucranianos começarão na próxima semana a trein...   \n",
      "2  Ucranianos começarão na próxima semana a trein...   \n",
      "\n",
      "                                Url_CNNInternacional  \\\n",
      "0  https://www.cnnbrasil.com.br/internacional/art...   \n",
      "1  https://www.cnnbrasil.com.br/internacional/ucr...   \n",
      "2  https://www.cnnbrasil.com.br/internacional/ucr...   \n",
      "\n",
      "                             Topics_CNNInternacional  \\\n",
      "0  Estados Unidos, Rússia, Rússia x Ucrânia, Ucrâ...   \n",
      "1  EUA, Guerra da Ucrânia, Guerras e conflitos, J...   \n",
      "2  EUA, Guerra da Ucrânia, Guerras e conflitos, J...   \n",
      "\n",
      "                                  Titulo_CNNPolitica  \\\n",
      "0  Policiais sobre críticos ao alojamento no DF: ...   \n",
      "1  Parlamentares debatem se houve abuso na detenç...   \n",
      "2  Parlamentares debatem se houve abuso na detenç...   \n",
      "\n",
      "                                     Url_CNNPolitica  \\\n",
      "0  https://www.cnnbrasil.com.br/politica/policiai...   \n",
      "1  https://www.cnnbrasil.com.br/politica/parlamen...   \n",
      "2  https://www.cnnbrasil.com.br/politica/parlamen...   \n",
      "\n",
      "                                  Topics_CNNPolitica  \\\n",
      "0  acampamentos, Ataque aos Três Poderes, Invasão...   \n",
      "1  Ataque aos Três Poderes, Brasília, Esplanada, ...   \n",
      "2  Ataque aos Três Poderes, Brasília, Esplanada, ...   \n",
      "\n",
      "                                  Titulo_CNNBusiness  \\\n",
      "0  BC precisa de mais tempo para voltar a cumprir...   \n",
      "1  BC precisa de mais tempo para voltar a cumprir...   \n",
      "2  BC precisa de mais tempo para voltar a cumprir...   \n",
      "\n",
      "                                     Url_CNNBusiness  \\\n",
      "0  https://www.cnnbrasil.com.br/business/bc-preci...   \n",
      "1  https://www.cnnbrasil.com.br/business/bc-preci...   \n",
      "2  https://www.cnnbrasil.com.br/business/bc-preci...   \n",
      "\n",
      "                        Topics_CNNBusiness  \n",
      "0  Banco Central (BC), IPCA, Taxa de juros  \n",
      "1  Banco Central (BC), IPCA, Taxa de juros  \n",
      "2  Banco Central (BC), IPCA, Taxa de juros  \n"
     ]
    }
   ],
   "source": [
    "new_row = pd.DataFrame({\"Date\":[Date], \"WeekDay\":[WeekDay], \"Brazil_Ibovespa\":[Brazil_Ibovespa], \"BRL_Dollar\":[BRL_Dollar], \"Titulo_CNNBrasil\":[Titulo_CNNBrasil], \"Url_CNNBrasil\":[Url_CNNBrasil], \"Topics_CNNBrasil\":[Topics_CNNBrasil], \"Titulo_CNNNacional\":[Titulo_CNNNacional], \"Url_CNNNacional\":[Url_CNNNacional], \"Topics_CNNNacional\":[Topics_CNNNacional], \"Titulo_CNNInternacional\":[Titulo_CNNInternacional], \"Url_CNNInternacional\":[Url_CNNInternacional], \"Topics_CNNInternacional\":[Topics_CNNInternacional], \"Titulo_CNNPolitica\":[Titulo_CNNPolitica], \"Url_CNNPolitica\":[Url_CNNPolitica], \"Topics_CNNPolitica\":[Topics_CNNPolitica], \"Titulo_CNNBusiness\":[Titulo_CNNBusiness], \"Url_CNNBusiness\":[Url_CNNBusiness], \"Topics_CNNBusiness\":[Topics_CNNBusiness]}, index=[0])\n",
    "print(new_row)\n",
    "dataset = pd.concat([dataset, new_row], ignore_index=True)\n",
    "# dataset = dataset.append({\"Date\":Date, \"WeekDay\": WeekDay}, ignore_index=True)\n",
    "print(dataset)\n"
   ]
  },
  {
   "cell_type": "code",
   "execution_count": 75,
   "metadata": {},
   "outputs": [],
   "source": [
    "dataset.to_csv(r'C:\\Users\\belig\\OneDrive\\Python\\MeuProjeto\\Projetos\\WebScrapping_News\\WebScrapping_News\\dataset_news.csv', index=False, encoding=\"utf-8-sig\", sep = ';')"
   ]
  },
  {
   "attachments": {},
   "cell_type": "markdown",
   "metadata": {},
   "source": [
    "Saving DataFrame as CSV"
   ]
  },
  {
   "cell_type": "code",
   "execution_count": 76,
   "metadata": {},
   "outputs": [
    {
     "data": {
      "text/html": [
       "<div>\n",
       "<style scoped>\n",
       "    .dataframe tbody tr th:only-of-type {\n",
       "        vertical-align: middle;\n",
       "    }\n",
       "\n",
       "    .dataframe tbody tr th {\n",
       "        vertical-align: top;\n",
       "    }\n",
       "\n",
       "    .dataframe thead th {\n",
       "        text-align: right;\n",
       "    }\n",
       "</style>\n",
       "<table border=\"1\" class=\"dataframe\">\n",
       "  <thead>\n",
       "    <tr style=\"text-align: right;\">\n",
       "      <th></th>\n",
       "      <th>Date</th>\n",
       "      <th>WeekDay</th>\n",
       "      <th>Brazil_Ibovespa</th>\n",
       "      <th>BRL_Dollar</th>\n",
       "      <th>Titulo_CNNBrasil</th>\n",
       "      <th>Url_CNNBrasil</th>\n",
       "      <th>Topics_CNNBrasil</th>\n",
       "      <th>Titulo_CNNNacional</th>\n",
       "      <th>Url_CNNNacional</th>\n",
       "      <th>Topics_CNNNacional</th>\n",
       "      <th>Titulo_CNNInternacional</th>\n",
       "      <th>Url_CNNInternacional</th>\n",
       "      <th>Topics_CNNInternacional</th>\n",
       "      <th>Titulo_CNNPolitica</th>\n",
       "      <th>Url_CNNPolitica</th>\n",
       "      <th>Topics_CNNPolitica</th>\n",
       "      <th>Titulo_CNNBusiness</th>\n",
       "      <th>Url_CNNBusiness</th>\n",
       "      <th>Topics_CNNBusiness</th>\n",
       "    </tr>\n",
       "  </thead>\n",
       "  <tbody>\n",
       "    <tr>\n",
       "      <th>0</th>\n",
       "      <td>10/01/2023</td>\n",
       "      <td>Tuesday</td>\n",
       "      <td>109227.0</td>\n",
       "      <td>5.2169</td>\n",
       "      <td>Torres de energia são derrubadas no Paraná e e...</td>\n",
       "      <td>https://www.cnnbrasil.com.br/business/torres-d...</td>\n",
       "      <td>ANEEL (Agência Nacional de Energia Elétrica), ...</td>\n",
       "      <td>Policiais que colocaram sacola na cabeça de mu...</td>\n",
       "      <td>https://www.cnnbrasil.com.br/nacional/policiai...</td>\n",
       "      <td>Ministério Público, PM (Polícia Militar), Rio ...</td>\n",
       "      <td>Artilharia russa está reduzida em quase 75%, d...</td>\n",
       "      <td>https://www.cnnbrasil.com.br/internacional/art...</td>\n",
       "      <td>Estados Unidos, Rússia, Rússia x Ucrânia, Ucrâ...</td>\n",
       "      <td>Policiais sobre críticos ao alojamento no DF: ...</td>\n",
       "      <td>https://www.cnnbrasil.com.br/politica/policiai...</td>\n",
       "      <td>acampamentos, Ataque aos Três Poderes, Invasão...</td>\n",
       "      <td>BC precisa de mais tempo para voltar a cumprir...</td>\n",
       "      <td>https://www.cnnbrasil.com.br/business/bc-preci...</td>\n",
       "      <td>Banco Central (BC), IPCA, Taxa de juros</td>\n",
       "    </tr>\n",
       "    <tr>\n",
       "      <th>1</th>\n",
       "      <td>10/01/2023</td>\n",
       "      <td>Tuesday</td>\n",
       "      <td>109227.0</td>\n",
       "      <td>5.202</td>\n",
       "      <td>Moraes ordena prisão do ex-comandante da PM do DF</td>\n",
       "      <td>https://www.cnnbrasil.com.br/politica/moraes-o...</td>\n",
       "      <td>None</td>\n",
       "      <td>Policiais que colocaram sacola na cabeça de mu...</td>\n",
       "      <td>https://www.cnnbrasil.com.br/nacional/policiai...</td>\n",
       "      <td>Ministério Público, PM (Polícia Militar), Rio ...</td>\n",
       "      <td>Ucranianos começarão na próxima semana a trein...</td>\n",
       "      <td>https://www.cnnbrasil.com.br/internacional/ucr...</td>\n",
       "      <td>EUA, Guerra da Ucrânia, Guerras e conflitos, J...</td>\n",
       "      <td>Parlamentares debatem se houve abuso na detenç...</td>\n",
       "      <td>https://www.cnnbrasil.com.br/politica/parlamen...</td>\n",
       "      <td>Ataque aos Três Poderes, Brasília, Esplanada, ...</td>\n",
       "      <td>BC precisa de mais tempo para voltar a cumprir...</td>\n",
       "      <td>https://www.cnnbrasil.com.br/business/bc-preci...</td>\n",
       "      <td>Banco Central (BC), IPCA, Taxa de juros</td>\n",
       "    </tr>\n",
       "    <tr>\n",
       "      <th>2</th>\n",
       "      <td>10/01/2023</td>\n",
       "      <td>Tuesday</td>\n",
       "      <td>109227.0</td>\n",
       "      <td>5.204</td>\n",
       "      <td>Moraes ordena prisão do ex-comandante da PM do DF</td>\n",
       "      <td>https://www.cnnbrasil.com.br/politica/moraes-o...</td>\n",
       "      <td>Alexandre de Moraes, Ataque aos Três Poderes, ...</td>\n",
       "      <td>Policiais que colocaram sacola na cabeça de mu...</td>\n",
       "      <td>https://www.cnnbrasil.com.br/nacional/policiai...</td>\n",
       "      <td>Ministério Público, PM (Polícia Militar), Rio ...</td>\n",
       "      <td>Ucranianos começarão na próxima semana a trein...</td>\n",
       "      <td>https://www.cnnbrasil.com.br/internacional/ucr...</td>\n",
       "      <td>EUA, Guerra da Ucrânia, Guerras e conflitos, J...</td>\n",
       "      <td>Parlamentares debatem se houve abuso na detenç...</td>\n",
       "      <td>https://www.cnnbrasil.com.br/politica/parlamen...</td>\n",
       "      <td>Ataque aos Três Poderes, Brasília, Esplanada, ...</td>\n",
       "      <td>BC precisa de mais tempo para voltar a cumprir...</td>\n",
       "      <td>https://www.cnnbrasil.com.br/business/bc-preci...</td>\n",
       "      <td>Banco Central (BC), IPCA, Taxa de juros</td>\n",
       "    </tr>\n",
       "  </tbody>\n",
       "</table>\n",
       "</div>"
      ],
      "text/plain": [
       "         Date  WeekDay  Brazil_Ibovespa BRL_Dollar  \\\n",
       "0  10/01/2023  Tuesday         109227.0     5.2169   \n",
       "1  10/01/2023  Tuesday         109227.0      5.202   \n",
       "2  10/01/2023  Tuesday         109227.0      5.204   \n",
       "\n",
       "                                    Titulo_CNNBrasil  \\\n",
       "0  Torres de energia são derrubadas no Paraná e e...   \n",
       "1  Moraes ordena prisão do ex-comandante da PM do DF   \n",
       "2  Moraes ordena prisão do ex-comandante da PM do DF   \n",
       "\n",
       "                                       Url_CNNBrasil  \\\n",
       "0  https://www.cnnbrasil.com.br/business/torres-d...   \n",
       "1  https://www.cnnbrasil.com.br/politica/moraes-o...   \n",
       "2  https://www.cnnbrasil.com.br/politica/moraes-o...   \n",
       "\n",
       "                                    Topics_CNNBrasil  \\\n",
       "0  ANEEL (Agência Nacional de Energia Elétrica), ...   \n",
       "1                                               None   \n",
       "2  Alexandre de Moraes, Ataque aos Três Poderes, ...   \n",
       "\n",
       "                                  Titulo_CNNNacional  \\\n",
       "0  Policiais que colocaram sacola na cabeça de mu...   \n",
       "1  Policiais que colocaram sacola na cabeça de mu...   \n",
       "2  Policiais que colocaram sacola na cabeça de mu...   \n",
       "\n",
       "                                     Url_CNNNacional  \\\n",
       "0  https://www.cnnbrasil.com.br/nacional/policiai...   \n",
       "1  https://www.cnnbrasil.com.br/nacional/policiai...   \n",
       "2  https://www.cnnbrasil.com.br/nacional/policiai...   \n",
       "\n",
       "                                  Topics_CNNNacional  \\\n",
       "0  Ministério Público, PM (Polícia Militar), Rio ...   \n",
       "1  Ministério Público, PM (Polícia Militar), Rio ...   \n",
       "2  Ministério Público, PM (Polícia Militar), Rio ...   \n",
       "\n",
       "                             Titulo_CNNInternacional  \\\n",
       "0  Artilharia russa está reduzida em quase 75%, d...   \n",
       "1  Ucranianos começarão na próxima semana a trein...   \n",
       "2  Ucranianos começarão na próxima semana a trein...   \n",
       "\n",
       "                                Url_CNNInternacional  \\\n",
       "0  https://www.cnnbrasil.com.br/internacional/art...   \n",
       "1  https://www.cnnbrasil.com.br/internacional/ucr...   \n",
       "2  https://www.cnnbrasil.com.br/internacional/ucr...   \n",
       "\n",
       "                             Topics_CNNInternacional  \\\n",
       "0  Estados Unidos, Rússia, Rússia x Ucrânia, Ucrâ...   \n",
       "1  EUA, Guerra da Ucrânia, Guerras e conflitos, J...   \n",
       "2  EUA, Guerra da Ucrânia, Guerras e conflitos, J...   \n",
       "\n",
       "                                  Titulo_CNNPolitica  \\\n",
       "0  Policiais sobre críticos ao alojamento no DF: ...   \n",
       "1  Parlamentares debatem se houve abuso na detenç...   \n",
       "2  Parlamentares debatem se houve abuso na detenç...   \n",
       "\n",
       "                                     Url_CNNPolitica  \\\n",
       "0  https://www.cnnbrasil.com.br/politica/policiai...   \n",
       "1  https://www.cnnbrasil.com.br/politica/parlamen...   \n",
       "2  https://www.cnnbrasil.com.br/politica/parlamen...   \n",
       "\n",
       "                                  Topics_CNNPolitica  \\\n",
       "0  acampamentos, Ataque aos Três Poderes, Invasão...   \n",
       "1  Ataque aos Três Poderes, Brasília, Esplanada, ...   \n",
       "2  Ataque aos Três Poderes, Brasília, Esplanada, ...   \n",
       "\n",
       "                                  Titulo_CNNBusiness  \\\n",
       "0  BC precisa de mais tempo para voltar a cumprir...   \n",
       "1  BC precisa de mais tempo para voltar a cumprir...   \n",
       "2  BC precisa de mais tempo para voltar a cumprir...   \n",
       "\n",
       "                                     Url_CNNBusiness  \\\n",
       "0  https://www.cnnbrasil.com.br/business/bc-preci...   \n",
       "1  https://www.cnnbrasil.com.br/business/bc-preci...   \n",
       "2  https://www.cnnbrasil.com.br/business/bc-preci...   \n",
       "\n",
       "                        Topics_CNNBusiness  \n",
       "0  Banco Central (BC), IPCA, Taxa de juros  \n",
       "1  Banco Central (BC), IPCA, Taxa de juros  \n",
       "2  Banco Central (BC), IPCA, Taxa de juros  "
      ]
     },
     "metadata": {},
     "output_type": "display_data"
    },
    {
     "name": "stdout",
     "output_type": "stream",
     "text": [
      "Adicionado 10/01/2023 - Tuesday ao dataset\n"
     ]
    }
   ],
   "source": [
    "display(dataset)\n",
    "print(f'Adicionado {Date} - {WeekDay} ao dataset')"
   ]
  }
 ],
 "metadata": {
  "kernelspec": {
   "display_name": "Python 3",
   "language": "python",
   "name": "python3"
  },
  "language_info": {
   "codemirror_mode": {
    "name": "ipython",
    "version": 3
   },
   "file_extension": ".py",
   "mimetype": "text/x-python",
   "name": "python",
   "nbconvert_exporter": "python",
   "pygments_lexer": "ipython3",
   "version": "3.10.9"
  },
  "orig_nbformat": 4,
  "vscode": {
   "interpreter": {
    "hash": "1c52493868dc53dbd5c75ab4669d3650689c9c6f97c2bf57df2ba7b019149d15"
   }
  }
 },
 "nbformat": 4,
 "nbformat_minor": 2
}
